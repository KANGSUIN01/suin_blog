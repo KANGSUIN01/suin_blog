{
 "cells": [
  {
   "cell_type": "markdown",
   "id": "41003532",
   "metadata": {},
   "source": [
    "# \"Python basics\"\n",
    "> \"파이썬 기초\"\n",
    "\n",
    "- toc:true\n",
    "- branch: master\n",
    "- badges: true\n",
    "- comments: true\n",
    "- author: SUIN KANG\n",
    "- categories: [jupyter, python]"
   ]
  },
  {
   "cell_type": "markdown",
   "id": "feac04c8",
   "metadata": {},
   "source": [
    "#### python basics"
   ]
  },
  {
   "cell_type": "code",
   "execution_count": 1,
   "id": "6c104b5d",
   "metadata": {},
   "outputs": [],
   "source": [
    "#for x in array:\n",
    "#    if x < pivot:\n",
    "#        less.append(x)\n",
    "#    else:\n",
    "#        greater.append(x)"
   ]
  },
  {
   "cell_type": "markdown",
   "id": "910a879d",
   "metadata": {},
   "source": [
    "#### 함수 및 개체 메서드 호출"
   ]
  },
  {
   "cell_type": "code",
   "execution_count": 2,
   "id": "24ad845c",
   "metadata": {},
   "outputs": [],
   "source": [
    "# result = f(x,y,z)\n",
    "# g()\n",
    "\n",
    "# obj.some_method(x,y,z)\n",
    "# result = f(a,b,c,d=5,e = 'foo')"
   ]
  },
  {
   "cell_type": "markdown",
   "id": "2598a87e",
   "metadata": {},
   "source": [
    "#### 변수 및 인수 전달"
   ]
  },
  {
   "cell_type": "code",
   "execution_count": 3,
   "id": "c3097815",
   "metadata": {},
   "outputs": [],
   "source": [
    "a = [1,2,3]"
   ]
  },
  {
   "cell_type": "code",
   "execution_count": 4,
   "id": "5da832f8",
   "metadata": {},
   "outputs": [],
   "source": [
    "b = a"
   ]
  },
  {
   "cell_type": "code",
   "execution_count": 5,
   "id": "ec3f2b11",
   "metadata": {},
   "outputs": [
    {
     "data": {
      "text/plain": [
       "[1, 2, 3, 4]"
      ]
     },
     "execution_count": 5,
     "metadata": {},
     "output_type": "execute_result"
    }
   ],
   "source": [
    "a.append(4)\n",
    "b"
   ]
  },
  {
   "cell_type": "code",
   "execution_count": 6,
   "id": "bea8d804",
   "metadata": {},
   "outputs": [
    {
     "data": {
      "text/plain": [
       "[1, 2, 3, 4]"
      ]
     },
     "execution_count": 6,
     "metadata": {},
     "output_type": "execute_result"
    }
   ],
   "source": [
    "def append_element(some_list, element):\n",
    "    some_list.append(element)\n",
    "    \n",
    "data = [1,2,3]\n",
    "    \n",
    "append_element(data,4)\n",
    "data"
   ]
  },
  {
   "cell_type": "markdown",
   "id": "ba3321d6",
   "metadata": {},
   "source": [
    "#### type관련"
   ]
  },
  {
   "cell_type": "code",
   "execution_count": 7,
   "id": "343b0d4e",
   "metadata": {},
   "outputs": [
    {
     "data": {
      "text/plain": [
       "int"
      ]
     },
     "execution_count": 7,
     "metadata": {},
     "output_type": "execute_result"
    }
   ],
   "source": [
    "a = 5\n",
    "type(a)"
   ]
  },
  {
   "cell_type": "code",
   "execution_count": 8,
   "id": "ecd66786",
   "metadata": {},
   "outputs": [
    {
     "data": {
      "text/plain": [
       "str"
      ]
     },
     "execution_count": 8,
     "metadata": {},
     "output_type": "execute_result"
    }
   ],
   "source": [
    "a = 'foo'\n",
    "type(a)"
   ]
  },
  {
   "cell_type": "code",
   "execution_count": 9,
   "id": "65ea6658",
   "metadata": {},
   "outputs": [
    {
     "ename": "TypeError",
     "evalue": "can only concatenate str (not \"int\") to str",
     "output_type": "error",
     "traceback": [
      "\u001b[1;31m---------------------------------------------------------------------------\u001b[0m",
      "\u001b[1;31mTypeError\u001b[0m                                 Traceback (most recent call last)",
      "\u001b[1;32m<ipython-input-9-aefad37e75d9>\u001b[0m in \u001b[0;36m<module>\u001b[1;34m\u001b[0m\n\u001b[1;32m----> 1\u001b[1;33m \u001b[1;34m'5'\u001b[0m\u001b[1;33m+\u001b[0m\u001b[1;36m5\u001b[0m \u001b[1;31m# 문자와 숫자는 연산할 수 없음\u001b[0m\u001b[1;33m\u001b[0m\u001b[1;33m\u001b[0m\u001b[0m\n\u001b[0m",
      "\u001b[1;31mTypeError\u001b[0m: can only concatenate str (not \"int\") to str"
     ]
    }
   ],
   "source": [
    "'5'+5 # 문자와 숫자는 연산할 수 없음"
   ]
  },
  {
   "cell_type": "code",
   "execution_count": 10,
   "id": "0dde9399",
   "metadata": {},
   "outputs": [
    {
     "name": "stdout",
     "output_type": "stream",
     "text": [
      "a is <class 'float'>, b is <class 'int'>\n"
     ]
    },
    {
     "data": {
      "text/plain": [
       "2.25"
      ]
     },
     "execution_count": 10,
     "metadata": {},
     "output_type": "execute_result"
    }
   ],
   "source": [
    "a = 4.5\n",
    "b = 2\n",
    "#String formatting, to be visited later\n",
    "print('a is {0}, b is {1}'.format(type(a),type(b)))\n",
    "a/b"
   ]
  },
  {
   "cell_type": "code",
   "execution_count": 11,
   "id": "e2c8e6af",
   "metadata": {},
   "outputs": [
    {
     "data": {
      "text/plain": [
       "True"
      ]
     },
     "execution_count": 11,
     "metadata": {},
     "output_type": "execute_result"
    }
   ],
   "source": [
    "a = 5\n",
    "isinstance(a, int)"
   ]
  },
  {
   "cell_type": "code",
   "execution_count": 12,
   "id": "aebecb41",
   "metadata": {},
   "outputs": [
    {
     "data": {
      "text/plain": [
       "True"
      ]
     },
     "execution_count": 12,
     "metadata": {},
     "output_type": "execute_result"
    }
   ],
   "source": [
    "a = 5; b = 4.5\n",
    "isinstance(a, (int, float))\n",
    "isinstance(b, (int, float))"
   ]
  },
  {
   "cell_type": "markdown",
   "id": "bd0eb80c",
   "metadata": {},
   "source": [
    "#### 속성 및 메소드\n",
    "-파이썬의 객체는 일반적으로 속성(객체 \"내부\"에 저장된 다른 파이썬 객체)과 메소드(객체의 내부 데이터에 액세스할 수 있는 객체와 관련된 함수)를 모두 가지고 있습니다.\n",
    "둘 다 obj.attribute_name구문을 통해 액세스됩니다"
   ]
  },
  {
   "cell_type": "code",
   "execution_count": 13,
   "id": "99afbfb7",
   "metadata": {},
   "outputs": [],
   "source": [
    "a = 'foo'"
   ]
  },
  {
   "cell_type": "code",
   "execution_count": 14,
   "id": "f4de3729",
   "metadata": {},
   "outputs": [],
   "source": [
    "#a.<Press Tab> a에 커서 놓은 채로 탭 누르면 쓸 수 있는게 나옴"
   ]
  },
  {
   "cell_type": "code",
   "execution_count": 15,
   "id": "20b45435",
   "metadata": {},
   "outputs": [
    {
     "data": {
      "text/plain": [
       "'FOO'"
      ]
     },
     "execution_count": 15,
     "metadata": {},
     "output_type": "execute_result"
    }
   ],
   "source": [
    "a.upper()"
   ]
  },
  {
   "cell_type": "markdown",
   "id": "15d3af2f",
   "metadata": {},
   "source": [
    "#### 속성 및 메서드는 getattr 함수를 통해 이름으로 액세스할 수도 있습니다"
   ]
  },
  {
   "cell_type": "code",
   "execution_count": 16,
   "id": "01e12f89",
   "metadata": {},
   "outputs": [
    {
     "data": {
      "text/plain": [
       "<function str.split(sep=None, maxsplit=-1)>"
      ]
     },
     "execution_count": 16,
     "metadata": {},
     "output_type": "execute_result"
    }
   ],
   "source": [
    "getattr(a, 'split')"
   ]
  },
  {
   "cell_type": "markdown",
   "id": "7b47fe43",
   "metadata": {},
   "source": [
    "#### Duck typing"
   ]
  },
  {
   "cell_type": "code",
   "execution_count": 17,
   "id": "3905a2b9",
   "metadata": {},
   "outputs": [],
   "source": [
    "def isiterable(obj):\n",
    "    try:\n",
    "        iter(obj)\n",
    "        return True\n",
    "    except TypeError: # 반복 가능하지 않다\n",
    "        return False"
   ]
  },
  {
   "cell_type": "code",
   "execution_count": 18,
   "id": "f02967b3",
   "metadata": {},
   "outputs": [
    {
     "data": {
      "text/plain": [
       "True"
      ]
     },
     "execution_count": 18,
     "metadata": {},
     "output_type": "execute_result"
    }
   ],
   "source": [
    "isiterable('a string')"
   ]
  },
  {
   "cell_type": "code",
   "execution_count": 19,
   "id": "77675b4d",
   "metadata": {},
   "outputs": [
    {
     "data": {
      "text/plain": [
       "True"
      ]
     },
     "execution_count": 19,
     "metadata": {},
     "output_type": "execute_result"
    }
   ],
   "source": [
    "isiterable([1,2,3])"
   ]
  },
  {
   "cell_type": "code",
   "execution_count": 20,
   "id": "f8414026",
   "metadata": {},
   "outputs": [
    {
     "data": {
      "text/plain": [
       "False"
      ]
     },
     "execution_count": 20,
     "metadata": {},
     "output_type": "execute_result"
    }
   ],
   "source": [
    "isiterable(5)"
   ]
  },
  {
   "cell_type": "markdown",
   "id": "79c1953b",
   "metadata": {},
   "source": [
    "#### module만들기\n",
    "- 원주율 이용해서 `some_module`만들기\n",
    "- module을 만들 때는 jupyter에서 new클릭 후 text파일을 열어서 확장자를 py로 저장\n",
    "\n",
    "```\n",
    "PI = 3.14159\n",
    "\n",
    "def f(x):\n",
    "    return x+2\n",
    "def g(a,b):\n",
    "    return a+b\n",
    "```\n",
    "같은 디렉토리에 있는 다른 곳에서 some_module.py에 정의된 변수와 함수에 액세스 하려면 다음을 수행할 수 있다."
   ]
  },
  {
   "cell_type": "code",
   "execution_count": 21,
   "id": "c29effbc",
   "metadata": {},
   "outputs": [
    {
     "data": {
      "text/plain": [
       "7"
      ]
     },
     "execution_count": 21,
     "metadata": {},
     "output_type": "execute_result"
    }
   ],
   "source": [
    "import some_module\n",
    "result = some_module.f(5)\n",
    "result"
   ]
  },
  {
   "cell_type": "code",
   "execution_count": 22,
   "id": "61964c3c",
   "metadata": {},
   "outputs": [
    {
     "data": {
      "text/plain": [
       "3.14159"
      ]
     },
     "execution_count": 22,
     "metadata": {},
     "output_type": "execute_result"
    }
   ],
   "source": [
    "pi = some_module.PI\n",
    "pi"
   ]
  },
  {
   "cell_type": "code",
   "execution_count": 23,
   "id": "74883f5f",
   "metadata": {},
   "outputs": [
    {
     "data": {
      "text/plain": [
       "8.14159"
      ]
     },
     "execution_count": 23,
     "metadata": {},
     "output_type": "execute_result"
    }
   ],
   "source": [
    "# 위와 같이 활용하기\n",
    "from some_module import f,g,PI\n",
    "result = g(5,PI)\n",
    "result"
   ]
  },
  {
   "cell_type": "markdown",
   "id": "2a7a8f50",
   "metadata": {},
   "source": [
    "#### 이항 연산자 및 비교"
   ]
  },
  {
   "cell_type": "code",
   "execution_count": 24,
   "id": "7d860025",
   "metadata": {},
   "outputs": [
    {
     "data": {
      "text/plain": [
       "True"
      ]
     },
     "execution_count": 24,
     "metadata": {},
     "output_type": "execute_result"
    }
   ],
   "source": [
    "a = [1,2,3]\n",
    "b =a\n",
    "c = list(a)\n",
    "a is b"
   ]
  },
  {
   "cell_type": "code",
   "execution_count": 25,
   "id": "2b6fe890",
   "metadata": {},
   "outputs": [
    {
     "data": {
      "text/plain": [
       "True"
      ]
     },
     "execution_count": 25,
     "metadata": {},
     "output_type": "execute_result"
    }
   ],
   "source": [
    "a is not c"
   ]
  },
  {
   "cell_type": "markdown",
   "id": "d1d611c3",
   "metadata": {},
   "source": [
    "list는 항상 새로운 python list(복사본)를 생성하므로 c가 와 구별된다는 것을 알 수 있다.\n",
    "'is'와 비교하는 것은 '==' 연산자와 같지 않다. 밑을 참고"
   ]
  },
  {
   "cell_type": "code",
   "execution_count": 29,
   "id": "6ca680ba",
   "metadata": {},
   "outputs": [
    {
     "data": {
      "text/plain": [
       "False"
      ]
     },
     "execution_count": 29,
     "metadata": {},
     "output_type": "execute_result"
    }
   ],
   "source": [
    "a == c"
   ]
  },
  {
   "cell_type": "code",
   "execution_count": 30,
   "id": "80ca8b86",
   "metadata": {},
   "outputs": [
    {
     "data": {
      "text/plain": [
       "True"
      ]
     },
     "execution_count": 30,
     "metadata": {},
     "output_type": "execute_result"
    }
   ],
   "source": [
    "a = None\n",
    "a is None"
   ]
  },
  {
   "cell_type": "markdown",
   "id": "69f17ae5",
   "metadata": {},
   "source": [
    "#### 변경 가능한 객체와 변경 불가능한 객체\n",
    "list, dictionary, Numpy array 및 대부분의 사용자 정의 유형(클래스)과 같은 python의 대부분의 객체는 변경할 수 있다. 이는 포함된 개체 또는 값을 수정할 수 있음을 의미"
   ]
  },
  {
   "cell_type": "code",
   "execution_count": 31,
   "id": "bda3bee3",
   "metadata": {},
   "outputs": [
    {
     "data": {
      "text/plain": [
       "['foo', 2, [4, 5]]"
      ]
     },
     "execution_count": 31,
     "metadata": {},
     "output_type": "execute_result"
    }
   ],
   "source": [
    "a_list = ['foo',2,[4,5]]\n",
    "a_list[2]\n",
    "a_list"
   ]
  },
  {
   "cell_type": "markdown",
   "id": "9e59d6d1",
   "metadata": {},
   "source": [
    "문자열 및 튜플과 같은 기타항목은 변경할 수 없다."
   ]
  },
  {
   "cell_type": "code",
   "execution_count": 32,
   "id": "3471346c",
   "metadata": {},
   "outputs": [
    {
     "ename": "TypeError",
     "evalue": "'tuple' object does not support item assignment",
     "output_type": "error",
     "traceback": [
      "\u001b[1;31m---------------------------------------------------------------------------\u001b[0m",
      "\u001b[1;31mTypeError\u001b[0m                                 Traceback (most recent call last)",
      "\u001b[1;32m<ipython-input-32-1990528cab52>\u001b[0m in \u001b[0;36m<module>\u001b[1;34m\u001b[0m\n\u001b[0;32m      1\u001b[0m \u001b[0ma_tuple\u001b[0m \u001b[1;33m=\u001b[0m \u001b[1;33m(\u001b[0m\u001b[1;36m3\u001b[0m\u001b[1;33m,\u001b[0m\u001b[1;36m5\u001b[0m\u001b[1;33m,\u001b[0m\u001b[1;33m(\u001b[0m\u001b[1;36m4\u001b[0m\u001b[1;33m,\u001b[0m\u001b[1;36m5\u001b[0m\u001b[1;33m)\u001b[0m\u001b[1;33m)\u001b[0m\u001b[1;33m\u001b[0m\u001b[1;33m\u001b[0m\u001b[0m\n\u001b[1;32m----> 2\u001b[1;33m \u001b[0ma_tuple\u001b[0m\u001b[1;33m[\u001b[0m\u001b[1;36m1\u001b[0m\u001b[1;33m]\u001b[0m \u001b[1;33m=\u001b[0m \u001b[1;34m'four'\u001b[0m\u001b[1;33m\u001b[0m\u001b[1;33m\u001b[0m\u001b[0m\n\u001b[0m",
      "\u001b[1;31mTypeError\u001b[0m: 'tuple' object does not support item assignment"
     ]
    }
   ],
   "source": [
    "# 오류나는 코드(튜플은 변경할 수 없기때문)\n",
    "a_tuple = (3,5,(4,5))\n",
    "a_tuple[1] = 'four'"
   ]
  },
  {
   "cell_type": "markdown",
   "id": "ed788cb5",
   "metadata": {},
   "source": [
    "#### 스칼라 유형\n",
    "숫자\n",
    "파이썬에서 숫자 기본 유형은 int와 float이며 int는 임의로 큰 숫자를 저장할 수 있음"
   ]
  },
  {
   "cell_type": "code",
   "execution_count": 35,
   "id": "dea7b584",
   "metadata": {},
   "outputs": [
    {
     "data": {
      "text/plain": [
       "26254519291092456596965462913230729701102721"
      ]
     },
     "execution_count": 35,
     "metadata": {},
     "output_type": "execute_result"
    }
   ],
   "source": [
    "ival = 17239871\n",
    "ival ** 6"
   ]
  },
  {
   "cell_type": "code",
   "execution_count": 36,
   "id": "9013d761",
   "metadata": {},
   "outputs": [
    {
     "data": {
      "text/plain": [
       "1.5"
      ]
     },
     "execution_count": 36,
     "metadata": {},
     "output_type": "execute_result"
    }
   ],
   "source": [
    "3/2"
   ]
  },
  {
   "cell_type": "code",
   "execution_count": 37,
   "id": "16de8579",
   "metadata": {},
   "outputs": [
    {
     "data": {
      "text/plain": [
       "float"
      ]
     },
     "execution_count": 37,
     "metadata": {},
     "output_type": "execute_result"
    }
   ],
   "source": [
    "type(3/2)"
   ]
  },
  {
   "cell_type": "code",
   "execution_count": 38,
   "id": "37cbc223",
   "metadata": {},
   "outputs": [
    {
     "data": {
      "text/plain": [
       "int"
      ]
     },
     "execution_count": 38,
     "metadata": {},
     "output_type": "execute_result"
    }
   ],
   "source": [
    "type(3//2)"
   ]
  },
  {
   "cell_type": "markdown",
   "id": "066972e5",
   "metadata": {},
   "source": [
    "#### 문자열\n",
    "- `''`\n",
    "- `\"\"`\n",
    "- `''''''`\n",
    "- `\"\"\"\"\"\"`"
   ]
  },
  {
   "cell_type": "code",
   "execution_count": 39,
   "id": "a3841919",
   "metadata": {},
   "outputs": [],
   "source": [
    "c = \"\"\"\n",
    "This is a longer string that\n",
    "spans multiple lines\n",
    "\"\"\""
   ]
  },
  {
   "cell_type": "code",
   "execution_count": 40,
   "id": "851ddb2d",
   "metadata": {},
   "outputs": [
    {
     "data": {
      "text/plain": [
       "'\\nThis is a longer string that\\nspans multiple lines\\n'"
      ]
     },
     "execution_count": 40,
     "metadata": {},
     "output_type": "execute_result"
    }
   ],
   "source": [
    "c"
   ]
  },
  {
   "cell_type": "code",
   "execution_count": 41,
   "id": "defda833",
   "metadata": {},
   "outputs": [
    {
     "data": {
      "text/plain": [
       "3"
      ]
     },
     "execution_count": 41,
     "metadata": {},
     "output_type": "execute_result"
    }
   ],
   "source": [
    "c.count(\"\\n\") # c의 \\n 개수 세기"
   ]
  },
  {
   "cell_type": "code",
   "execution_count": 42,
   "id": "bae02803",
   "metadata": {},
   "outputs": [
    {
     "ename": "TypeError",
     "evalue": "'str' object does not support item assignment",
     "output_type": "error",
     "traceback": [
      "\u001b[1;31m---------------------------------------------------------------------------\u001b[0m",
      "\u001b[1;31mTypeError\u001b[0m                                 Traceback (most recent call last)",
      "\u001b[1;32m<ipython-input-42-21ee4aca937c>\u001b[0m in \u001b[0;36m<module>\u001b[1;34m\u001b[0m\n\u001b[0;32m      1\u001b[0m \u001b[1;31m# 문자열을 수정할 수 없음\u001b[0m\u001b[1;33m\u001b[0m\u001b[1;33m\u001b[0m\u001b[1;33m\u001b[0m\u001b[0m\n\u001b[0;32m      2\u001b[0m \u001b[0ma\u001b[0m \u001b[1;33m=\u001b[0m \u001b[1;34m'this is a string'\u001b[0m\u001b[1;33m\u001b[0m\u001b[1;33m\u001b[0m\u001b[0m\n\u001b[1;32m----> 3\u001b[1;33m \u001b[0ma\u001b[0m\u001b[1;33m[\u001b[0m\u001b[1;36m10\u001b[0m\u001b[1;33m]\u001b[0m \u001b[1;33m=\u001b[0m \u001b[1;34m'f'\u001b[0m\u001b[1;33m\u001b[0m\u001b[1;33m\u001b[0m\u001b[0m\n\u001b[0m",
      "\u001b[1;31mTypeError\u001b[0m: 'str' object does not support item assignment"
     ]
    }
   ],
   "source": [
    "# 문자열을 수정할 수 없음(오류남)\n",
    "a = 'this is a string'\n",
    "a[10] = 'f'"
   ]
  },
  {
   "cell_type": "code",
   "execution_count": 44,
   "id": "f3a7c035",
   "metadata": {},
   "outputs": [
    {
     "data": {
      "text/plain": [
       "'this is a longer string'"
      ]
     },
     "execution_count": 44,
     "metadata": {},
     "output_type": "execute_result"
    }
   ],
   "source": [
    "b = a.replace('string','longer string') # a의 string을 longer string으로 바꾸기\n",
    "b"
   ]
  },
  {
   "cell_type": "code",
   "execution_count": 46,
   "id": "818f7d55",
   "metadata": {},
   "outputs": [
    {
     "data": {
      "text/plain": [
       "'this is a string'"
      ]
     },
     "execution_count": 46,
     "metadata": {},
     "output_type": "execute_result"
    }
   ],
   "source": [
    "a"
   ]
  },
  {
   "cell_type": "markdown",
   "id": "9f2943ae",
   "metadata": {},
   "source": [
    "str함수를 사용하여 많은 파이썬 객체를 문자열로 변환할 수 있습니다."
   ]
  },
  {
   "cell_type": "code",
   "execution_count": 3,
   "id": "97fab4f5",
   "metadata": {},
   "outputs": [
    {
     "name": "stdout",
     "output_type": "stream",
     "text": [
      "5.6\n"
     ]
    }
   ],
   "source": [
    "a = 5.6\n",
    "s = str(a)\n",
    "print(s)"
   ]
  },
  {
   "cell_type": "markdown",
   "id": "a080b105",
   "metadata": {},
   "source": [
    "문자열은 유니코드 문자의 시퀀스이므로 list 및 튜플과 같은 다른 시퀀스처럼 처리될 수 있다."
   ]
  },
  {
   "cell_type": "code",
   "execution_count": 5,
   "id": "6269c6e0",
   "metadata": {},
   "outputs": [
    {
     "data": {
      "text/plain": [
       "['p', 'y', 't', 'h', 'o', 'n']"
      ]
     },
     "execution_count": 5,
     "metadata": {},
     "output_type": "execute_result"
    }
   ],
   "source": [
    "s = 'python'\n",
    "list(s)"
   ]
  },
  {
   "cell_type": "code",
   "execution_count": 6,
   "id": "6cb2bf72",
   "metadata": {},
   "outputs": [
    {
     "data": {
      "text/plain": [
       "'pyt'"
      ]
     },
     "execution_count": 6,
     "metadata": {},
     "output_type": "execute_result"
    }
   ],
   "source": [
    "s[:3]"
   ]
  },
  {
   "cell_type": "markdown",
   "id": "710ff230",
   "metadata": {},
   "source": [
    "s[:3]은 슬라이싱이라고 하며 많은 종류의 파이썬 시퀀스에 대해 구현된다.\n",
    "백슬래시 문자(\\)는 이스케이프 문자로 유니코드 문자와 같은 특수 문자를 지정하는데 사용된다. \n",
    "백슬래시가 있는 문자열 리터럴을 작성하려면 백슬래시를 이스케이프해야한다."
   ]
  },
  {
   "cell_type": "code",
   "execution_count": 9,
   "id": "d6c53ac7",
   "metadata": {},
   "outputs": [
    {
     "name": "stdout",
     "output_type": "stream",
     "text": [
      "12\n",
      "34\n"
     ]
    }
   ],
   "source": [
    "print('12\\n34')"
   ]
  },
  {
   "cell_type": "code",
   "execution_count": 10,
   "id": "a6296015",
   "metadata": {},
   "outputs": [
    {
     "name": "stdout",
     "output_type": "stream",
     "text": [
      "12//34\n"
     ]
    }
   ],
   "source": [
    "s = '12//34'\n",
    "print(s)"
   ]
  },
  {
   "cell_type": "markdown",
   "id": "72a4c827",
   "metadata": {},
   "source": [
    "두 문자열을 함께 추가하면 두 문자열이 연결되어 새 문자열이 생성된다."
   ]
  },
  {
   "cell_type": "code",
   "execution_count": 11,
   "id": "7d3f72b2",
   "metadata": {},
   "outputs": [
    {
     "data": {
      "text/plain": [
       "'this is the first halfand this is the second half'"
      ]
     },
     "execution_count": 11,
     "metadata": {},
     "output_type": "execute_result"
    }
   ],
   "source": [
    "a = 'this is the first half'\n",
    "b = 'and this is the second half'\n",
    "a+b"
   ]
  },
  {
   "cell_type": "markdown",
   "id": "4e6c10ec",
   "metadata": {},
   "source": [
    "문자열 포메팅\n",
    "문자열 객체에는 형식이 지정된 인수를 문자열로 대체하여 새 문자열을 생성하는데 사용할 수 있는 대체에 사용할 수 있는 형식 메서드가 있다.\n",
    "문자열 객체에는 형식이 지정된 인수를 문자열로 대체하여 새 문자열을 생성하는 데 사용할 수 있는 대체에 사용할 수 있는 형식 메서드가 있다."
   ]
  },
  {
   "cell_type": "code",
   "execution_count": 12,
   "id": "3b948f6d",
   "metadata": {},
   "outputs": [
    {
     "data": {
      "text/plain": [
       "'{0:2f}{1:s} are worth US${2:d}'"
      ]
     },
     "execution_count": 12,
     "metadata": {},
     "output_type": "execute_result"
    }
   ],
   "source": [
    "template = '{0:2f}{1:s} are worth US${2:d}'\n",
    "template"
   ]
  },
  {
   "cell_type": "markdown",
   "id": "25cf25bf",
   "metadata": {},
   "source": [
    "- {0:f}는 첫번째 인수의 형식을 소수점 2자리 부동 소수점 숫자로 지정하는 것을 의미\n",
    "- {1:s}는 두 번째 인수의 형식을 문자열로 지정\n",
    "- {2:d}는 세 번째 인수의 형식을 정확한 정수로 지정하는 것을 의미"
   ]
  },
  {
   "cell_type": "code",
   "execution_count": 13,
   "id": "5dd0f4d6",
   "metadata": {},
   "outputs": [
    {
     "data": {
      "text/plain": [
       "'4.556000Argentine Pesos are worth US$1'"
      ]
     },
     "execution_count": 13,
     "metadata": {},
     "output_type": "execute_result"
    }
   ],
   "source": [
    "template.format(4.5560,'Argentine Pesos', 1)"
   ]
  },
  {
   "cell_type": "code",
   "execution_count": 14,
   "id": "22753e20",
   "metadata": {},
   "outputs": [
    {
     "data": {
      "text/plain": [
       "'1263.230000won are worth US$1'"
      ]
     },
     "execution_count": 14,
     "metadata": {},
     "output_type": "execute_result"
    }
   ],
   "source": [
    "template.format(1263.23, 'won', 1)"
   ]
  },
  {
   "cell_type": "markdown",
   "id": "a494ee8a",
   "metadata": {},
   "source": [
    "#### Booleans\n",
    "```\n",
    "python의 2개의 부울 값은 TRUE값과 FALSE로 작성한다.\n",
    "비교및 기타 조건 식은 True 또는 False로 평가된다.\n",
    "부울 값은 and와 or키워드와 조합된다.\n",
    "```"
   ]
  },
  {
   "cell_type": "code",
   "execution_count": 15,
   "id": "7cb2b9b5",
   "metadata": {},
   "outputs": [
    {
     "data": {
      "text/plain": [
       "True"
      ]
     },
     "execution_count": 15,
     "metadata": {},
     "output_type": "execute_result"
    }
   ],
   "source": [
    "True and True"
   ]
  },
  {
   "cell_type": "code",
   "execution_count": 16,
   "id": "9120f52a",
   "metadata": {},
   "outputs": [
    {
     "data": {
      "text/plain": [
       "True"
      ]
     },
     "execution_count": 16,
     "metadata": {},
     "output_type": "execute_result"
    }
   ],
   "source": [
    "False or True"
   ]
  },
  {
   "cell_type": "markdown",
   "id": "fe937bef",
   "metadata": {},
   "source": [
    "#### Type casting\n",
    "str, bool, int, float 타입도 값을 캐스팅하는데 사용할 수 있는 함수다."
   ]
  },
  {
   "cell_type": "code",
   "execution_count": 17,
   "id": "9ad23c6a",
   "metadata": {},
   "outputs": [
    {
     "data": {
      "text/plain": [
       "float"
      ]
     },
     "execution_count": 17,
     "metadata": {},
     "output_type": "execute_result"
    }
   ],
   "source": [
    "s = '3.14159'\n",
    "fval = float(s)\n",
    "type(fval)"
   ]
  },
  {
   "cell_type": "code",
   "execution_count": 18,
   "id": "415792af",
   "metadata": {},
   "outputs": [
    {
     "data": {
      "text/plain": [
       "3"
      ]
     },
     "execution_count": 18,
     "metadata": {},
     "output_type": "execute_result"
    }
   ],
   "source": [
    "int(fval)"
   ]
  },
  {
   "cell_type": "code",
   "execution_count": 19,
   "id": "54b39e31",
   "metadata": {},
   "outputs": [
    {
     "data": {
      "text/plain": [
       "True"
      ]
     },
     "execution_count": 19,
     "metadata": {},
     "output_type": "execute_result"
    }
   ],
   "source": [
    "bool(fval)"
   ]
  },
  {
   "cell_type": "code",
   "execution_count": 20,
   "id": "d047d30e",
   "metadata": {},
   "outputs": [
    {
     "data": {
      "text/plain": [
       "False"
      ]
     },
     "execution_count": 20,
     "metadata": {},
     "output_type": "execute_result"
    }
   ],
   "source": [
    "bool(0)"
   ]
  },
  {
   "cell_type": "markdown",
   "id": "b73c29da",
   "metadata": {},
   "source": [
    "#### None\n",
    "```\n",
    "None은 python null값 유형이다.\n",
    "함수가 명시적으로 값을 반환하지 않으면 암묵적으로 None을 반환합니다.\n",
    "```"
   ]
  },
  {
   "cell_type": "code",
   "execution_count": 22,
   "id": "5c575cc1",
   "metadata": {},
   "outputs": [
    {
     "data": {
      "text/plain": [
       "True"
      ]
     },
     "execution_count": 22,
     "metadata": {},
     "output_type": "execute_result"
    }
   ],
   "source": [
    "a = None\n",
    "a is None"
   ]
  },
  {
   "cell_type": "code",
   "execution_count": 23,
   "id": "22644d28",
   "metadata": {},
   "outputs": [
    {
     "data": {
      "text/plain": [
       "True"
      ]
     },
     "execution_count": 23,
     "metadata": {},
     "output_type": "execute_result"
    }
   ],
   "source": [
    "b = 5\n",
    "b is not None"
   ]
  },
  {
   "cell_type": "markdown",
   "id": "c6a1bfd6",
   "metadata": {},
   "source": [
    "none은 함수 인수의 일반적인 기본값이기도 함"
   ]
  },
  {
   "cell_type": "code",
   "execution_count": 24,
   "id": "1e2e50a2",
   "metadata": {},
   "outputs": [],
   "source": [
    "def add_and_maybe_multiply(a,b,c=None):\n",
    "    result = a+b\n",
    "    \n",
    "    if c is not None:\n",
    "        result = result * c\n",
    "        \n",
    "    return result"
   ]
  },
  {
   "cell_type": "code",
   "execution_count": 25,
   "id": "5a6fdf79",
   "metadata": {},
   "outputs": [
    {
     "data": {
      "text/plain": [
       "8"
      ]
     },
     "execution_count": 25,
     "metadata": {},
     "output_type": "execute_result"
    }
   ],
   "source": [
    "add_and_maybe_multiply(5,3)"
   ]
  },
  {
   "cell_type": "code",
   "execution_count": 26,
   "id": "dcfb68b6",
   "metadata": {},
   "outputs": [
    {
     "data": {
      "text/plain": [
       "80"
      ]
     },
     "execution_count": 26,
     "metadata": {},
     "output_type": "execute_result"
    }
   ],
   "source": [
    "add_and_maybe_multiply(5,3,10)"
   ]
  },
  {
   "cell_type": "markdown",
   "id": "cb17f9db",
   "metadata": {},
   "source": [
    "#### 데이터와 시간\n",
    "내장된 python datetime 모듈은 datetime, 날짜 및 시간 유형을 제공한다.\n",
    "datetime유형은 예상대로 날짜와 시간에 저장된 정보를 조합하여 가장 일반적으로 사용된다."
   ]
  },
  {
   "cell_type": "code",
   "execution_count": 27,
   "id": "adf4bb5d",
   "metadata": {},
   "outputs": [
    {
     "data": {
      "text/plain": [
       "datetime.datetime(2011, 10, 29, 20, 30, 21)"
      ]
     },
     "execution_count": 27,
     "metadata": {},
     "output_type": "execute_result"
    }
   ],
   "source": [
    "from datetime import datetime, date, time\n",
    "dt = datetime(2011,10,29,20,30,21)\n",
    "dt"
   ]
  },
  {
   "cell_type": "code",
   "execution_count": 28,
   "id": "8fc08709",
   "metadata": {},
   "outputs": [
    {
     "data": {
      "text/plain": [
       "29"
      ]
     },
     "execution_count": 28,
     "metadata": {},
     "output_type": "execute_result"
    }
   ],
   "source": [
    "dt.day"
   ]
  },
  {
   "cell_type": "code",
   "execution_count": 29,
   "id": "599d34d2",
   "metadata": {},
   "outputs": [
    {
     "data": {
      "text/plain": [
       "30"
      ]
     },
     "execution_count": 29,
     "metadata": {},
     "output_type": "execute_result"
    }
   ],
   "source": [
    "dt.minute"
   ]
  },
  {
   "cell_type": "markdown",
   "id": "e233d791",
   "metadata": {},
   "source": [
    "지정된 datetime 인스턴스에서 동일한 이름의 datetime 메서드를 호출하여 동일한 날짜 및 시간 개체를 추출할 수 있다."
   ]
  },
  {
   "cell_type": "code",
   "execution_count": 30,
   "id": "955630e6",
   "metadata": {},
   "outputs": [
    {
     "data": {
      "text/plain": [
       "datetime.date(2011, 10, 29)"
      ]
     },
     "execution_count": 30,
     "metadata": {},
     "output_type": "execute_result"
    }
   ],
   "source": [
    "dt.date()"
   ]
  },
  {
   "cell_type": "code",
   "execution_count": 31,
   "id": "96719e31",
   "metadata": {},
   "outputs": [
    {
     "data": {
      "text/plain": [
       "datetime.time(20, 30, 21)"
      ]
     },
     "execution_count": 31,
     "metadata": {},
     "output_type": "execute_result"
    }
   ],
   "source": [
    "dt.time()"
   ]
  },
  {
   "cell_type": "markdown",
   "id": "c995f28c",
   "metadata": {},
   "source": [
    "strftime메서드는 datetime을 문자열로 포맷한다."
   ]
  },
  {
   "cell_type": "code",
   "execution_count": 32,
   "id": "e7585b81",
   "metadata": {},
   "outputs": [
    {
     "data": {
      "text/plain": [
       "'10/29/2011 20:30'"
      ]
     },
     "execution_count": 32,
     "metadata": {},
     "output_type": "execute_result"
    }
   ],
   "source": [
    "dt.strftime('%m/%d/%Y %H:%M')"
   ]
  },
  {
   "cell_type": "code",
   "execution_count": 34,
   "id": "a200c5ec",
   "metadata": {},
   "outputs": [
    {
     "data": {
      "text/plain": [
       "'2011/10/29 20:30'"
      ]
     },
     "execution_count": 34,
     "metadata": {},
     "output_type": "execute_result"
    }
   ],
   "source": [
    "dt.strftime('%Y/%m/%d %H:%M')"
   ]
  },
  {
   "cell_type": "markdown",
   "id": "f6b33f14",
   "metadata": {},
   "source": [
    "strptime 함수를 사용하여 문자열을 datetime 개체로 변환할 수 있다."
   ]
  },
  {
   "cell_type": "code",
   "execution_count": 35,
   "id": "2706887f",
   "metadata": {},
   "outputs": [
    {
     "data": {
      "text/plain": [
       "datetime.datetime(2009, 10, 31, 0, 0)"
      ]
     },
     "execution_count": 35,
     "metadata": {},
     "output_type": "execute_result"
    }
   ],
   "source": [
    "datetime.strptime('20091031', '%Y%m%d')"
   ]
  },
  {
   "cell_type": "markdown",
   "id": "83c35d5b",
   "metadata": {},
   "source": [
    "시계열 데이터를 집계하거나 그룹화할 때, 예를 들어 분, 초를 0으로 바꾸는 등 일련의 데이터 시간 필드를 바꾸는 것이 유용할 수 있다."
   ]
  },
  {
   "cell_type": "code",
   "execution_count": 36,
   "id": "ff66e4c1",
   "metadata": {},
   "outputs": [
    {
     "data": {
      "text/plain": [
       "datetime.datetime(2011, 10, 29, 20, 0)"
      ]
     },
     "execution_count": 36,
     "metadata": {},
     "output_type": "execute_result"
    }
   ],
   "source": [
    "dt.replace(minute=0,second=0)"
   ]
  },
  {
   "cell_type": "code",
   "execution_count": 37,
   "id": "16bb468d",
   "metadata": {},
   "outputs": [
    {
     "data": {
      "text/plain": [
       "datetime.timedelta(days=17, seconds=7179)"
      ]
     },
     "execution_count": 37,
     "metadata": {},
     "output_type": "execute_result"
    }
   ],
   "source": [
    "dt2 = datetime(2011,11,15,22,30)\n",
    "delta = dt2-dt\n",
    "delta"
   ]
  },
  {
   "cell_type": "code",
   "execution_count": 38,
   "id": "4066f253",
   "metadata": {},
   "outputs": [
    {
     "data": {
      "text/plain": [
       "datetime.timedelta"
      ]
     },
     "execution_count": 38,
     "metadata": {},
     "output_type": "execute_result"
    }
   ],
   "source": [
    "type(delta)"
   ]
  },
  {
   "cell_type": "code",
   "execution_count": 39,
   "id": "799a59ac",
   "metadata": {},
   "outputs": [
    {
     "data": {
      "text/plain": [
       "datetime.datetime(2011, 11, 15, 22, 30)"
      ]
     },
     "execution_count": 39,
     "metadata": {},
     "output_type": "execute_result"
    }
   ],
   "source": [
    "dt\n",
    "dt+delta"
   ]
  },
  {
   "cell_type": "markdown",
   "id": "7e0407ed",
   "metadata": {},
   "source": [
    "#### control Flow(흐름제어)\n",
    "```\n",
    "python에는 다른 프로그래밍 언어에서 볼 수 있는 조건부 논리, 루프 및 기타 표준 제어 흐름 개념에 대한 몇 가지 키워드가 내장되어 있습다.\n",
    "\n",
    "if, elif, other\n",
    "\n",
    "if문은 가장 잘 알려진 제어문 중 하나이다. True일 경우 다음 볼록의 코드를 평가하는 조건을 체크한다.\n",
    "```"
   ]
  },
  {
   "cell_type": "code",
   "execution_count": 41,
   "id": "00ff2b93",
   "metadata": {},
   "outputs": [
    {
     "name": "stdout",
     "output_type": "stream",
     "text": [
      "It is negative\n"
     ]
    }
   ],
   "source": [
    "x = -5\n",
    "if x<0:\n",
    "    print('It is negative')"
   ]
  },
  {
   "cell_type": "markdown",
   "id": "bfc513f4",
   "metadata": {},
   "source": [
    "모든 조건이 False일 경우 if 문 뒤에 하나 이상의 elif 블록과 catch all other블록을 선택적으로 사용할 수 있다."
   ]
  },
  {
   "cell_type": "code",
   "execution_count": 43,
   "id": "61c09e0d",
   "metadata": {},
   "outputs": [
    {
     "name": "stdout",
     "output_type": "stream",
     "text": [
      "It is negative\n"
     ]
    }
   ],
   "source": [
    "x = -5\n",
    "if x<0:\n",
    "    print('It is negative')\n",
    "elif x == 0:\n",
    "    print('Equal to zero')\n",
    "elif 0<x<5:\n",
    "    print('Positive but smaller than 5')\n",
    "else:\n",
    "    print('Positive and larger than or equal to 5')"
   ]
  },
  {
   "cell_type": "markdown",
   "id": "e7928c2e",
   "metadata": {},
   "source": [
    "```\n",
    "어느 하나의 조건의 True일 경우 더이상의 elif 또는 다른 블록에 도달하지 않는다.\n",
    "and나 or을 사용하는 복합 조건의 경우 조건은 왼쪽에서 오른쪽으로 평가되며 단락된다.\n",
    "```"
   ]
  },
  {
   "cell_type": "code",
   "execution_count": 44,
   "id": "7e10d6a9",
   "metadata": {},
   "outputs": [
    {
     "name": "stdout",
     "output_type": "stream",
     "text": [
      "Made it\n"
     ]
    }
   ],
   "source": [
    "a = 5; b=7\n",
    "c=8; d=4\n",
    "if a<b or c>d:\n",
    "    print('Made it')"
   ]
  },
  {
   "cell_type": "markdown",
   "id": "8f4e3d58",
   "metadata": {},
   "source": [
    "```\n",
    "이 예에서는 첫번째 비교가 True였기 때문에 c>d의 비교는 평가되지 않는다.\n",
    "연쇄비교도 가능하다.\n",
    "```"
   ]
  },
  {
   "cell_type": "code",
   "execution_count": 45,
   "id": "3cfee519",
   "metadata": {},
   "outputs": [
    {
     "data": {
      "text/plain": [
       "True"
      ]
     },
     "execution_count": 45,
     "metadata": {},
     "output_type": "execute_result"
    }
   ],
   "source": [
    "4>3>2>1"
   ]
  },
  {
   "cell_type": "code",
   "execution_count": 46,
   "id": "1f538ce1",
   "metadata": {},
   "outputs": [
    {
     "data": {
      "text/plain": [
       "True"
      ]
     },
     "execution_count": 46,
     "metadata": {},
     "output_type": "execute_result"
    }
   ],
   "source": [
    "3>5 or 2>1"
   ]
  },
  {
   "cell_type": "code",
   "execution_count": 47,
   "id": "f759bc0b",
   "metadata": {},
   "outputs": [
    {
     "data": {
      "text/plain": [
       "False"
      ]
     },
     "execution_count": 47,
     "metadata": {},
     "output_type": "execute_result"
    }
   ],
   "source": [
    "3>5>2>1"
   ]
  },
  {
   "cell_type": "markdown",
   "id": "83c8b453",
   "metadata": {},
   "source": [
    "#### for loops\n",
    "```\n",
    "루프는 컬렉션(리스트나 튜플 등) 또는 반복문으로 반복하기 위한 것이다.\n",
    "for 루프의 표준구문은 아래와 같다.\n",
    "for value in collection:\n",
    "    # do something with value\n",
    "continue 키워드를 사용하면 for루프를 다음 반복으로 진행하여 블록의 나머지 부분을 건너뛸 수 있다.\n",
    "list의 정수를 집계하고 None값을 건너뛴다.\n",
    "```"
   ]
  },
  {
   "cell_type": "code",
   "execution_count": 48,
   "id": "e61e1ea7",
   "metadata": {},
   "outputs": [
    {
     "ename": "TypeError",
     "evalue": "unsupported operand type(s) for +=: 'int' and 'NoneType'",
     "output_type": "error",
     "traceback": [
      "\u001b[1;31m---------------------------------------------------------------------------\u001b[0m",
      "\u001b[1;31mTypeError\u001b[0m                                 Traceback (most recent call last)",
      "\u001b[1;32m<ipython-input-48-6f47744c1319>\u001b[0m in \u001b[0;36m<module>\u001b[1;34m\u001b[0m\n\u001b[0;32m      3\u001b[0m \u001b[1;33m\u001b[0m\u001b[0m\n\u001b[0;32m      4\u001b[0m \u001b[1;32mfor\u001b[0m \u001b[0mvalue\u001b[0m \u001b[1;32min\u001b[0m \u001b[0msequence\u001b[0m\u001b[1;33m:\u001b[0m\u001b[1;33m\u001b[0m\u001b[1;33m\u001b[0m\u001b[0m\n\u001b[1;32m----> 5\u001b[1;33m     \u001b[0mtotal\u001b[0m\u001b[1;33m+=\u001b[0m\u001b[0mvalue\u001b[0m\u001b[1;33m\u001b[0m\u001b[1;33m\u001b[0m\u001b[0m\n\u001b[0m",
      "\u001b[1;31mTypeError\u001b[0m: unsupported operand type(s) for +=: 'int' and 'NoneType'"
     ]
    }
   ],
   "source": [
    "# None과 int값은 연산할 수 없음\n",
    "sequence = [1,2,None, 4, None, 5]\n",
    "total = 0\n",
    "\n",
    "for value in sequence:\n",
    "    total+=value"
   ]
  },
  {
   "cell_type": "code",
   "execution_count": 49,
   "id": "6f9a83ea",
   "metadata": {},
   "outputs": [],
   "source": [
    "sequence = [1,2,None,4,None,5]\n",
    "total = 0\n",
    "\n",
    "for value in sequence:\n",
    "    if value is None:\n",
    "        continue\n",
    "    total +=value"
   ]
  },
  {
   "cell_type": "code",
   "execution_count": 50,
   "id": "e268432d",
   "metadata": {},
   "outputs": [
    {
     "data": {
      "text/plain": [
       "12"
      ]
     },
     "execution_count": 50,
     "metadata": {},
     "output_type": "execute_result"
    }
   ],
   "source": [
    "total"
   ]
  },
  {
   "cell_type": "markdown",
   "id": "98a83751",
   "metadata": {},
   "source": [
    "for루프는 break키워드를 사용하여 모두 종료할 수 있다.\n",
    "이 코드는 5에 도달할 때까지 list의 요소를 합산한다."
   ]
  },
  {
   "cell_type": "code",
   "execution_count": 52,
   "id": "5fd99254",
   "metadata": {},
   "outputs": [],
   "source": [
    "sequence = [1,2,0,4,6,5,2,1]\n",
    "total_until_5 = 0\n",
    "for value in sequence:\n",
    "    if value == 5:\n",
    "        break\n",
    "    total_until_5 += value"
   ]
  },
  {
   "cell_type": "code",
   "execution_count": 53,
   "id": "ca4d147c",
   "metadata": {},
   "outputs": [
    {
     "data": {
      "text/plain": [
       "13"
      ]
     },
     "execution_count": 53,
     "metadata": {},
     "output_type": "execute_result"
    }
   ],
   "source": [
    "total_until_5"
   ]
  },
  {
   "cell_type": "markdown",
   "id": "3d0f80ee",
   "metadata": {},
   "source": [
    "break키워드는 가장 안쪽의 for루프만 종료한다. 루프 바깥쪽은 계속 실행된다."
   ]
  },
  {
   "cell_type": "code",
   "execution_count": 54,
   "id": "42c9e04d",
   "metadata": {},
   "outputs": [
    {
     "name": "stdout",
     "output_type": "stream",
     "text": [
      "(0, 0)\n",
      "(1, 0)\n",
      "(1, 1)\n",
      "(2, 0)\n",
      "(2, 1)\n",
      "(2, 2)\n",
      "(3, 0)\n",
      "(3, 1)\n",
      "(3, 2)\n",
      "(3, 3)\n"
     ]
    }
   ],
   "source": [
    "for i in range(4):\n",
    "    for j in range(4):\n",
    "        if j>i:\n",
    "            break\n",
    "        print((i,j))"
   ]
  },
  {
   "cell_type": "markdown",
   "id": "ff65a764",
   "metadata": {},
   "source": [
    "```\n",
    "자세한 내용은 컬렉션 또는 반복문 내의 요소가 시퀀스(튜플 또는 리스트 등)인 경우 쉽게 for loop상태의 변수로 압축해제할 수 있다.\n",
    "for a,b,c in iterator:\n",
    "    # do something\n",
    "```"
   ]
  },
  {
   "cell_type": "code",
   "execution_count": 55,
   "id": "e44cc58c",
   "metadata": {},
   "outputs": [
    {
     "name": "stdout",
     "output_type": "stream",
     "text": [
      "1 2 3\n",
      "4 5 6\n",
      "7 8 9\n"
     ]
    }
   ],
   "source": [
    "for a,b,c in [[1,2,3],[4,5,6],[7,8,9]]:\n",
    "    print(a,b,c)"
   ]
  },
  {
   "cell_type": "markdown",
   "id": "9fc0c526",
   "metadata": {},
   "source": [
    "#### while loops\n",
    "while loop는 조건과 조건이 False로 평가되거나 루프가 명시적으로 break로 종료할 때까지 실행되는 코드 븍록을 지정한다."
   ]
  },
  {
   "cell_type": "code",
   "execution_count": 56,
   "id": "174c42d3",
   "metadata": {},
   "outputs": [],
   "source": [
    "x = 256\n",
    "total = 0\n",
    "while x>0:\n",
    "    if total>500:\n",
    "        break\n",
    "    total += x\n",
    "    x = x//2"
   ]
  },
  {
   "cell_type": "code",
   "execution_count": 57,
   "id": "e1e26f63",
   "metadata": {},
   "outputs": [
    {
     "data": {
      "text/plain": [
       "504"
      ]
     },
     "execution_count": 57,
     "metadata": {},
     "output_type": "execute_result"
    }
   ],
   "source": [
    "total"
   ]
  },
  {
   "cell_type": "code",
   "execution_count": 60,
   "id": "bc14b8ab",
   "metadata": {},
   "outputs": [
    {
     "data": {
      "text/plain": [
       "4"
      ]
     },
     "execution_count": 60,
     "metadata": {},
     "output_type": "execute_result"
    }
   ],
   "source": [
    "x"
   ]
  },
  {
   "cell_type": "code",
   "execution_count": 58,
   "id": "ecba4ec6",
   "metadata": {},
   "outputs": [
    {
     "data": {
      "text/plain": [
       "504"
      ]
     },
     "execution_count": 58,
     "metadata": {},
     "output_type": "execute_result"
    }
   ],
   "source": [
    "256+128+64+32+16+8"
   ]
  },
  {
   "cell_type": "markdown",
   "id": "ff43a5a7",
   "metadata": {},
   "source": [
    "#### pass\n",
    "pass는 python에서 \"no-op\"(No Operation) 상태이다. 이는 액션이 수행되지 않는 블록(또는 아직 구현되지 않은 코드의자리 표시자)에서 사용할 수 있다. python은 블록을 구분하기 위해서 공백공간을 사용하기 때문에 들여쓰기가 필요함"
   ]
  },
  {
   "cell_type": "code",
   "execution_count": 61,
   "id": "6c1bf9e2",
   "metadata": {},
   "outputs": [
    {
     "name": "stdout",
     "output_type": "stream",
     "text": [
      "negative!\n"
     ]
    }
   ],
   "source": [
    "x = -1\n",
    "if x<0:\n",
    "    print('negative!')\n",
    "elif x == 0:\n",
    "    #TODO: put something smart here\n",
    "    pass\n",
    "else:\n",
    "    print('positive')"
   ]
  },
  {
   "cell_type": "markdown",
   "id": "a998c804",
   "metadata": {},
   "source": [
    "range함수는 균일한 간격의 정수 시퀀스를 생성하는 반복문을 반환한다"
   ]
  },
  {
   "cell_type": "code",
   "execution_count": 62,
   "id": "d8990b58",
   "metadata": {},
   "outputs": [
    {
     "data": {
      "text/plain": [
       "range(0, 10)"
      ]
     },
     "execution_count": 62,
     "metadata": {},
     "output_type": "execute_result"
    }
   ],
   "source": [
    "range(10)"
   ]
  },
  {
   "cell_type": "code",
   "execution_count": 63,
   "id": "d768bd76",
   "metadata": {},
   "outputs": [
    {
     "data": {
      "text/plain": [
       "[0, 1, 2, 3, 4, 5, 6, 7, 8, 9]"
      ]
     },
     "execution_count": 63,
     "metadata": {},
     "output_type": "execute_result"
    }
   ],
   "source": [
    "list(range(10))"
   ]
  },
  {
   "cell_type": "markdown",
   "id": "a862dca0",
   "metadata": {},
   "source": [
    "시작, 종료 및 단계(음수일 수 있음)를 모두 지정할 수 있다."
   ]
  },
  {
   "cell_type": "code",
   "execution_count": 64,
   "id": "be95e24c",
   "metadata": {},
   "outputs": [
    {
     "data": {
      "text/plain": [
       "[0, 2, 4, 6, 8, 10, 12, 14, 16, 18]"
      ]
     },
     "execution_count": 64,
     "metadata": {},
     "output_type": "execute_result"
    }
   ],
   "source": [
    "list(range(0,20,2))"
   ]
  },
  {
   "cell_type": "code",
   "execution_count": 65,
   "id": "ba926409",
   "metadata": {},
   "outputs": [
    {
     "data": {
      "text/plain": [
       "[5, 4, 3, 2, 1]"
      ]
     },
     "execution_count": 65,
     "metadata": {},
     "output_type": "execute_result"
    }
   ],
   "source": [
    "list(range(5,0,-1))"
   ]
  },
  {
   "cell_type": "markdown",
   "id": "76df6e72",
   "metadata": {},
   "source": [
    "위와 같이 범위를 지정하면 끝점을 포함하지 않는 정수가 생성된다.\n",
    "범위를 일반적으로 사용하면 인덱스로 시퀀스를 반복할 수 있다."
   ]
  },
  {
   "cell_type": "code",
   "execution_count": 66,
   "id": "c77ae70a",
   "metadata": {},
   "outputs": [],
   "source": [
    "seq = [1,2,3,4]\n",
    "for i in range(len(seq)):\n",
    "    val = seq[i]"
   ]
  },
  {
   "cell_type": "code",
   "execution_count": 67,
   "id": "66adb715",
   "metadata": {},
   "outputs": [
    {
     "data": {
      "text/plain": [
       "4"
      ]
     },
     "execution_count": 67,
     "metadata": {},
     "output_type": "execute_result"
    }
   ],
   "source": [
    "val"
   ]
  },
  {
   "cell_type": "markdown",
   "id": "a1a3c9ae",
   "metadata": {},
   "source": [
    "list와 같은 함수를 사용하여 범위별로 생성된 모든 정수를 다른 데이터구조에 저장할 수 있지만 종종 기본 반복문 형식이 된다.\n",
    "여기서는 3 또는 5의 배수인 0~99999의 모든 수치를 집계하고 있다."
   ]
  },
  {
   "cell_type": "code",
   "execution_count": 68,
   "id": "65e61acd",
   "metadata": {},
   "outputs": [],
   "source": [
    "sum = 0\n",
    "for i in range(100000):\n",
    "    # % is the modulo operator\n",
    "    if i % 3 == 0 or i % 5 == 0:\n",
    "        sum += i"
   ]
  },
  {
   "cell_type": "markdown",
   "id": "bb5fa9ec",
   "metadata": {},
   "source": [
    "#### Ternary expressions\n",
    "```\n",
    "value = true-expr if condition else false-expr\n",
    "여기서 true-expr 및 false-expr은 임의의 python식입니다. \n",
    "\n",
    "if condition:\n",
    "    value = true-expr\n",
    "else:\n",
    "    value = false-expr\n",
    "```"
   ]
  },
  {
   "cell_type": "code",
   "execution_count": 69,
   "id": "502ad10d",
   "metadata": {},
   "outputs": [
    {
     "data": {
      "text/plain": [
       "'Non-negative'"
      ]
     },
     "execution_count": 69,
     "metadata": {},
     "output_type": "execute_result"
    }
   ],
   "source": [
    "x=5\n",
    "'Non-negative' if x>= 0 else 'Negative'"
   ]
  },
  {
   "cell_type": "code",
   "execution_count": 70,
   "id": "8382dce4",
   "metadata": {},
   "outputs": [
    {
     "data": {
      "text/plain": [
       "100"
      ]
     },
     "execution_count": 70,
     "metadata": {},
     "output_type": "execute_result"
    }
   ],
   "source": [
    "x = 5\n",
    "a = 100 if x>=0 else -100\n",
    "a"
   ]
  }
 ],
 "metadata": {
  "kernelspec": {
   "display_name": "Python 3",
   "language": "python",
   "name": "python3"
  },
  "language_info": {
   "codemirror_mode": {
    "name": "ipython",
    "version": 3
   },
   "file_extension": ".py",
   "mimetype": "text/x-python",
   "name": "python",
   "nbconvert_exporter": "python",
   "pygments_lexer": "ipython3",
   "version": "3.8.8"
  }
 },
 "nbformat": 4,
 "nbformat_minor": 5
}
